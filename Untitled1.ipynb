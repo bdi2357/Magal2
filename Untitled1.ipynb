{
 "cells": [
  {
   "cell_type": "code",
   "execution_count": 4,
   "metadata": {
    "collapsed": false
   },
   "outputs": [
    {
     "name": "stdout",
     "output_type": "stream",
     "text": [
      "Server Version: 76\n",
      "TWS Time at connection:20171227 21:04:37 IST\n",
      "Server Version: 76\n",
      "TWS Time at connection:20171227 21:04:37 IST\n",
      "Server Version: 76\n",
      "TWS Time at connection:20171227 21:04:38 IST\n"
     ]
    },
    {
     "name": "stderr",
     "output_type": "stream",
     "text": [
      "2017-12-27 21:04:41,195 [ERROR] ezibpy: [#326] Unable connect as the client id is already in use. Retry with a unique client id.\n",
      "2017-12-27 21:04:41,754 [ERROR] ezibpy: [#326] Unable connect as the client id is already in use. Retry with a unique client id.\n",
      "2017-12-27 21:04:42,265 [ERROR] ezibpy: [#326] Unable connect as the client id is already in use. Retry with a unique client id.\n"
     ]
    },
    {
     "data": {
      "text/plain": [
       "<bound method ezIBpy.disconnect of <ezibpy.ezibpy.ezIBpy object at 0x1077b9a90>>"
      ]
     },
     "execution_count": 4,
     "metadata": {},
     "output_type": "execute_result"
    },
    {
     "name": "stderr",
     "output_type": "stream",
     "text": [
      "2017-12-27 21:04:42,787 [ERROR] ezibpy: [#326] Unable connect as the client id is already in use. Retry with a unique client id.\n"
     ]
    },
    {
     "name": "stdout",
     "output_type": "stream",
     "text": [
      "Server Version: 76\n",
      "TWS Time at connection:20171227 21:04:38 IST\n",
      "Server Version: 76\n"
     ]
    },
    {
     "name": "stderr",
     "output_type": "stream",
     "text": [
      "2017-12-27 21:04:43,306 [ERROR] ezibpy: [#326] Unable connect as the client id is already in use. Retry with a unique client id.\n"
     ]
    },
    {
     "name": "stdout",
     "output_type": "stream",
     "text": [
      "TWS Time at connection:20171227 21:04:39 IST\n",
      "Server Version: 76\n",
      "TWS Time at connection:20171227 21:04:40 IST\n"
     ]
    },
    {
     "name": "stderr",
     "output_type": "stream",
     "text": [
      "2017-12-27 21:04:43,824 [ERROR] ezibpy: [#326] Unable connect as the client id is already in use. Retry with a unique client id.\n",
      "2017-12-27 21:04:44,348 [ERROR] ezibpy: [#326] Unable connect as the client id is already in use. Retry with a unique client id.\n"
     ]
    },
    {
     "name": "stdout",
     "output_type": "stream",
     "text": [
      "Server Version: 76\n",
      "TWS Time at connection:20171227 21:04:40 IST\n",
      "Server Version: 76\n"
     ]
    },
    {
     "name": "stderr",
     "output_type": "stream",
     "text": [
      "2017-12-27 21:04:44,853 [ERROR] ezibpy: [#326] Unable connect as the client id is already in use. Retry with a unique client id.\n"
     ]
    },
    {
     "name": "stdout",
     "output_type": "stream",
     "text": [
      "TWS Time at connection:20171227 21:04:41 IST\n",
      "Server Version: 76\n",
      "TWS Time at connection:20171227 21:04:41 IST\n"
     ]
    },
    {
     "name": "stderr",
     "output_type": "stream",
     "text": [
      "2017-12-27 21:04:45,368 [ERROR] ezibpy: [#326] Unable connect as the client id is already in use. Retry with a unique client id.\n",
      "2017-12-27 21:04:45,911 [ERROR] ezibpy: [#326] Unable connect as the client id is already in use. Retry with a unique client id.\n"
     ]
    },
    {
     "name": "stdout",
     "output_type": "stream",
     "text": [
      "Server Version: 76\n",
      "TWS Time at connection:20171227 21:04:42 IST\n",
      "Server Version: 76\n"
     ]
    },
    {
     "name": "stderr",
     "output_type": "stream",
     "text": [
      "2017-12-27 21:04:46,434 [ERROR] ezibpy: [#326] Unable connect as the client id is already in use. Retry with a unique client id.\n"
     ]
    },
    {
     "name": "stdout",
     "output_type": "stream",
     "text": [
      "TWS Time at connection:20171227 21:04:42 IST\n",
      "Server Version: 76\n"
     ]
    },
    {
     "name": "stderr",
     "output_type": "stream",
     "text": [
      "2017-12-27 21:04:46,959 [ERROR] ezibpy: [#326] Unable connect as the client id is already in use. Retry with a unique client id.\n"
     ]
    },
    {
     "name": "stdout",
     "output_type": "stream",
     "text": [
      "TWS Time at connection:20171227 21:04:43 IST\n",
      "Server Version: 76\n",
      "TWS Time at connection:20171227 21:04:43 IST\n"
     ]
    },
    {
     "name": "stderr",
     "output_type": "stream",
     "text": [
      "2017-12-27 21:04:47,467 [ERROR] ezibpy: [#326] Unable connect as the client id is already in use. Retry with a unique client id.\n",
      "2017-12-27 21:04:47,984 [ERROR] ezibpy: [#326] Unable connect as the client id is already in use. Retry with a unique client id.\n"
     ]
    },
    {
     "name": "stdout",
     "output_type": "stream",
     "text": [
      "Server Version: 76\n",
      "TWS Time at connection:20171227 21:04:44 IST\n",
      "Server Version: 76\n",
      "TWS Time at connection:20171227 21:04:44 IST\n"
     ]
    },
    {
     "name": "stderr",
     "output_type": "stream",
     "text": [
      "2017-12-27 21:04:48,508 [ERROR] ezibpy: [#326] Unable connect as the client id is already in use. Retry with a unique client id.\n",
      "2017-12-27 21:04:49,039 [ERROR] ezibpy: [#326] Unable connect as the client id is already in use. Retry with a unique client id.\n"
     ]
    },
    {
     "name": "stdout",
     "output_type": "stream",
     "text": [
      "Server Version: 76\n",
      "TWS Time at connection:20171227 21:04:45 IST\n",
      "Server Version: 76\n",
      "TWS Time at connection:20171227 21:04:45 IST\n"
     ]
    },
    {
     "name": "stderr",
     "output_type": "stream",
     "text": [
      "2017-12-27 21:04:49,554 [ERROR] ezibpy: [#326] Unable connect as the client id is already in use. Retry with a unique client id.\n",
      "2017-12-27 21:04:50,087 [ERROR] ezibpy: [#326] Unable connect as the client id is already in use. Retry with a unique client id.\n"
     ]
    },
    {
     "name": "stdout",
     "output_type": "stream",
     "text": [
      "Server Version: 76\n",
      "TWS Time at connection:20171227 21:04:46 IST\n",
      "Server Version: 76\n",
      "TWS Time at connection:20171227 21:04:46 IST\n"
     ]
    },
    {
     "name": "stderr",
     "output_type": "stream",
     "text": [
      "2017-12-27 21:04:50,609 [ERROR] ezibpy: [#326] Unable connect as the client id is already in use. Retry with a unique client id.\n",
      "2017-12-27 21:04:51,165 [ERROR] ezibpy: [#326] Unable connect as the client id is already in use. Retry with a unique client id.\n"
     ]
    },
    {
     "name": "stdout",
     "output_type": "stream",
     "text": [
      "Server Version: 76\n",
      "TWS Time at connection:20171227 21:04:47 IST\n",
      "Server Version: 76\n",
      "TWS Time at connection:20171227 21:04:47 IST\n"
     ]
    },
    {
     "name": "stderr",
     "output_type": "stream",
     "text": [
      "2017-12-27 21:04:51,679 [ERROR] ezibpy: [#326] Unable connect as the client id is already in use. Retry with a unique client id.\n",
      "2017-12-27 21:04:52,206 [ERROR] ezibpy: [#326] Unable connect as the client id is already in use. Retry with a unique client id.\n"
     ]
    },
    {
     "name": "stdout",
     "output_type": "stream",
     "text": [
      "Server Version: 76\n",
      "TWS Time at connection:20171227 21:04:48 IST\n",
      "Server Version: 76\n",
      "TWS Time at connection:20171227 21:04:48 IST\n"
     ]
    },
    {
     "name": "stderr",
     "output_type": "stream",
     "text": [
      "2017-12-27 21:04:52,724 [ERROR] ezibpy: [#326] Unable connect as the client id is already in use. Retry with a unique client id.\n",
      "2017-12-27 21:04:53,225 [ERROR] ezibpy: [#326] Unable connect as the client id is already in use. Retry with a unique client id.\n"
     ]
    },
    {
     "name": "stdout",
     "output_type": "stream",
     "text": [
      "Server Version: 76\n",
      "TWS Time at connection:20171227 21:04:49 IST\n",
      "Server Version: 76\n"
     ]
    },
    {
     "name": "stderr",
     "output_type": "stream",
     "text": [
      "2017-12-27 21:04:53,787 [ERROR] ezibpy: [#326] Unable connect as the client id is already in use. Retry with a unique client id.\n"
     ]
    },
    {
     "name": "stdout",
     "output_type": "stream",
     "text": [
      "TWS Time at connection:20171227 21:04:49 IST\n",
      "Server Version: 76\n",
      "TWS Time at connection:20171227 21:04:50 IST\n"
     ]
    },
    {
     "name": "stderr",
     "output_type": "stream",
     "text": [
      "2017-12-27 21:04:54,305 [ERROR] ezibpy: [#326] Unable connect as the client id is already in use. Retry with a unique client id.\n",
      "2017-12-27 21:04:54,824 [ERROR] ezibpy: [#326] Unable connect as the client id is already in use. Retry with a unique client id.\n"
     ]
    },
    {
     "name": "stdout",
     "output_type": "stream",
     "text": [
      "Server Version: 76\n",
      "TWS Time at connection:20171227 21:04:51 IST\n",
      "Server Version: 76\n",
      "TWS Time at connection:20171227 21:04:51 IST\n"
     ]
    },
    {
     "name": "stderr",
     "output_type": "stream",
     "text": [
      "2017-12-27 21:04:55,338 [ERROR] ezibpy: [#326] Unable connect as the client id is already in use. Retry with a unique client id.\n",
      "2017-12-27 21:04:55,847 [ERROR] ezibpy: [#326] Unable connect as the client id is already in use. Retry with a unique client id.\n"
     ]
    },
    {
     "name": "stdout",
     "output_type": "stream",
     "text": [
      "Server Version: 76\n",
      "TWS Time at connection:20171227 21:04:52 IST\n",
      "Server Version: 76\n"
     ]
    },
    {
     "name": "stderr",
     "output_type": "stream",
     "text": [
      "2017-12-27 21:04:56,388 [ERROR] ezibpy: [#326] Unable connect as the client id is already in use. Retry with a unique client id.\n"
     ]
    },
    {
     "name": "stdout",
     "output_type": "stream",
     "text": [
      "TWS Time at connection:20171227 21:04:52 IST\n",
      "Server Version: 76\n",
      "TWS Time at connection:20171227 21:04:53 IST\n"
     ]
    },
    {
     "name": "stderr",
     "output_type": "stream",
     "text": [
      "2017-12-27 21:04:56,901 [ERROR] ezibpy: [#326] Unable connect as the client id is already in use. Retry with a unique client id.\n",
      "2017-12-27 21:04:57,414 [ERROR] ezibpy: [#504] Not connected\n",
      "2017-12-27 21:04:57,417 [ERROR] ezibpy: [#326] Unable connect as the client id is already in use. Retry with a unique client id.\n",
      "2017-12-27 21:04:57,431 [ERROR] ezibpy: [#326] Unable connect as the client id is already in use. Retry with a unique client id.\n"
     ]
    },
    {
     "name": "stdout",
     "output_type": "stream",
     "text": [
      "Server Version: 76\n",
      "TWS Time at connection:20171227 21:04:53 IST\n",
      "Server Version: 76\n",
      "TWS Time at connection:20171227 21:04:53 IST\n",
      "Server Version: 76\n",
      "TWS Time at connection:20171227 21:04:54 IST\n"
     ]
    },
    {
     "name": "stderr",
     "output_type": "stream",
     "text": [
      "2017-12-27 21:04:57,935 [ERROR] ezibpy: [#326] Unable connect as the client id is already in use. Retry with a unique client id.\n",
      "2017-12-27 21:04:57,952 [ERROR] ezibpy: [#326] Unable connect as the client id is already in use. Retry with a unique client id.\n"
     ]
    },
    {
     "name": "stdout",
     "output_type": "stream",
     "text": [
      "Server Version: 76\n",
      "TWS Time at connection:20171227 21:04:54 IST\n",
      "Server Version: 76\n"
     ]
    },
    {
     "name": "stderr",
     "output_type": "stream",
     "text": [
      "2017-12-27 21:04:58,447 [ERROR] ezibpy: [#326] Unable connect as the client id is already in use. Retry with a unique client id.\n",
      "2017-12-27 21:04:58,472 [ERROR] ezibpy: [#326] Unable connect as the client id is already in use. Retry with a unique client id.\n",
      "2017-12-27 21:04:58,495 [ERROR] ezibpy: [#326] Unable connect as the client id is already in use. Retry with a unique client id.\n"
     ]
    },
    {
     "name": "stdout",
     "output_type": "stream",
     "text": [
      "TWS Time at connection:20171227 21:04:54 IST\n",
      "Server Version: 76\n",
      "TWS Time at connection:20171227 21:04:54 IST\n",
      "Server Version: 76\n",
      "TWS Time at connection:20171227 21:04:54 IST\n",
      "Server Version: 76\n",
      "TWS Time at connection:20171227 21:04:55 IST\n"
     ]
    },
    {
     "name": "stderr",
     "output_type": "stream",
     "text": [
      "2017-12-27 21:04:58,957 [ERROR] ezibpy: [#326] Unable connect as the client id is already in use. Retry with a unique client id.\n",
      "2017-12-27 21:04:58,982 [ERROR] ezibpy: [#326] Unable connect as the client id is already in use. Retry with a unique client id.\n",
      "2017-12-27 21:04:59,017 [ERROR] ezibpy: [#326] Unable connect as the client id is already in use. Retry with a unique client id.\n"
     ]
    },
    {
     "name": "stdout",
     "output_type": "stream",
     "text": [
      "Server Version: 76\n",
      "TWS Time at connection:20171227 21:04:55 IST\n",
      "Server Version: 76\n",
      "TWS Time at connection:20171227 21:04:55 IST\n",
      "Server Version: 76\n",
      "TWS Time at connection:20171227 21:04:55 IST\n"
     ]
    },
    {
     "name": "stderr",
     "output_type": "stream",
     "text": [
      "2017-12-27 21:04:59,466 [ERROR] ezibpy: [#326] Unable connect as the client id is already in use. Retry with a unique client id.\n",
      "2017-12-27 21:04:59,496 [ERROR] ezibpy: [#326] Unable connect as the client id is already in use. Retry with a unique client id.\n",
      "2017-12-27 21:04:59,533 [ERROR] ezibpy: [#326] Unable connect as the client id is already in use. Retry with a unique client id.\n"
     ]
    },
    {
     "name": "stdout",
     "output_type": "stream",
     "text": [
      "Server Version: 76\n",
      "TWS Time at connection:20171227 21:04:55 IST\n",
      "Server Version: 76\n",
      "TWS Time at connection:20171227 21:04:55 IST\n",
      "Server Version: 76\n"
     ]
    },
    {
     "name": "stderr",
     "output_type": "stream",
     "text": [
      "2017-12-27 21:04:59,996 [ERROR] ezibpy: [#326] Unable connect as the client id is already in use. Retry with a unique client id.\n",
      "2017-12-27 21:05:00,017 [ERROR] ezibpy: [#326] Unable connect as the client id is already in use. Retry with a unique client id.\n"
     ]
    },
    {
     "name": "stdout",
     "output_type": "stream",
     "text": [
      "TWS Time at connection:20171227 21:04:56 IST\n",
      "Server Version: 76\n",
      "TWS Time at connection:20171227 21:04:56 IST\n",
      "Server Version: 76\n",
      "TWS Time at connection:20171227 21:04:56 IST\n"
     ]
    },
    {
     "name": "stderr",
     "output_type": "stream",
     "text": [
      "2017-12-27 21:05:00,046 [ERROR] ezibpy: [#326] Unable connect as the client id is already in use. Retry with a unique client id.\n",
      "2017-12-27 21:05:00,064 [ERROR] ezibpy: [#326] Unable connect as the client id is already in use. Retry with a unique client id.\n"
     ]
    },
    {
     "name": "stdout",
     "output_type": "stream",
     "text": [
      "Server Version: 76\n",
      "TWS Time at connection:20171227 21:04:56 IST\n",
      "Server Version: 76\n"
     ]
    },
    {
     "name": "stderr",
     "output_type": "stream",
     "text": [
      "2017-12-27 21:05:00,531 [ERROR] ezibpy: [#326] Unable connect as the client id is already in use. Retry with a unique client id.\n",
      "2017-12-27 21:05:00,556 [ERROR] ezibpy: [#326] Unable connect as the client id is already in use. Retry with a unique client id.\n",
      "2017-12-27 21:05:00,568 [ERROR] ezibpy: [#326] Unable connect as the client id is already in use. Retry with a unique client id.\n",
      "2017-12-27 21:05:00,605 [ERROR] ezibpy: [#326] Unable connect as the client id is already in use. Retry with a unique client id.\n"
     ]
    },
    {
     "name": "stdout",
     "output_type": "stream",
     "text": [
      "TWS Time at connection:20171227 21:04:56 IST\n",
      "Server Version: 76\n",
      "TWS Time at connection:20171227 21:04:56 IST\n",
      "Server Version: 76\n",
      "TWS Time at connection:20171227 21:04:56 IST\n",
      "Server Version: 76\n",
      "TWS Time at connection:20171227 21:04:56 IST\n",
      "Server Version: 76\n"
     ]
    },
    {
     "name": "stderr",
     "output_type": "stream",
     "text": [
      "2017-12-27 21:05:00,633 [ERROR] ezibpy: [#326] Unable connect as the client id is already in use. Retry with a unique client id.\n"
     ]
    },
    {
     "name": "stdout",
     "output_type": "stream",
     "text": [
      "TWS Time at connection:20171227 21:04:56 IST\n",
      "Server Version: 76\n"
     ]
    },
    {
     "name": "stderr",
     "output_type": "stream",
     "text": [
      "2017-12-27 21:05:01,387 [ERROR] ezibpy: [#326] Unable connect as the client id is already in use. Retry with a unique client id.\n"
     ]
    },
    {
     "name": "stdout",
     "output_type": "stream",
     "text": [
      "TWS Time at connection:20171227 21:04:57 IST\n",
      "Server Version: 76\n",
      "TWS Time at connection:20171227 21:04:58 IST\n"
     ]
    },
    {
     "name": "stderr",
     "output_type": "stream",
     "text": [
      "2017-12-27 21:05:01,855 [ERROR] ezibpy: [#326] Unable connect as the client id is already in use. Retry with a unique client id.\n",
      "2017-12-27 21:05:02,136 [ERROR] ezibpy: [#504] Not connected\n",
      "2017-12-27 21:05:02,142 [ERROR] ezibpy: [#326] Unable connect as the client id is already in use. Retry with a unique client id.\n",
      "2017-12-27 21:05:02,168 [ERROR] ezibpy: [#504] Not connected\n",
      "2017-12-27 21:05:02,172 [ERROR] ezibpy: [#326] Unable connect as the client id is already in use. Retry with a unique client id.\n"
     ]
    },
    {
     "name": "stdout",
     "output_type": "stream",
     "text": [
      "Server Version: 76\n",
      "TWS Time at connection:20171227 21:04:58 IST\n",
      "Server Version: 76\n",
      "TWS Time at connection:20171227 21:04:58 IST\n",
      "Server Version: 76\n"
     ]
    },
    {
     "name": "stderr",
     "output_type": "stream",
     "text": [
      "2017-12-27 21:05:02,319 [ERROR] ezibpy: [#326] Unable connect as the client id is already in use. Retry with a unique client id.\n",
      "2017-12-27 21:05:02,340 [ERROR] ezibpy: [#326] Unable connect as the client id is already in use. Retry with a unique client id.\n"
     ]
    },
    {
     "name": "stdout",
     "output_type": "stream",
     "text": [
      "TWS Time at connection:20171227 21:04:58 IST\n",
      "Server Version: 76\n",
      "TWS Time at connection:20171227 21:04:58 IST\n",
      "Server Version: 76\n"
     ]
    },
    {
     "name": "stderr",
     "output_type": "stream",
     "text": [
      "2017-12-27 21:05:02,384 [ERROR] ezibpy: [#326] Unable connect as the client id is already in use. Retry with a unique client id.\n"
     ]
    },
    {
     "name": "stdout",
     "output_type": "stream",
     "text": [
      "TWS Time at connection:20171227 21:04:58 IST\n",
      "Server Version: 76\n",
      "TWS Time at connection:20171227 21:04:58 IST\n"
     ]
    },
    {
     "name": "stderr",
     "output_type": "stream",
     "text": [
      "2017-12-27 21:05:02,688 [ERROR] ezibpy: [#326] Unable connect as the client id is already in use. Retry with a unique client id.\n",
      "2017-12-27 21:05:02,693 [ERROR] ezibpy: [#326] Unable connect as the client id is already in use. Retry with a unique client id.\n"
     ]
    },
    {
     "name": "stdout",
     "output_type": "stream",
     "text": [
      "Server Version: 76\n",
      "TWS Time at connection:20171227 21:04:58 IST\n",
      "Server Version: 76\n",
      "TWS Time at connection:20171227 21:04:59 IST\n"
     ]
    },
    {
     "name": "stderr",
     "output_type": "stream",
     "text": [
      "2017-12-27 21:05:02,855 [ERROR] ezibpy: [#326] Unable connect as the client id is already in use. Retry with a unique client id.\n",
      "2017-12-27 21:05:02,881 [ERROR] ezibpy: [#326] Unable connect as the client id is already in use. Retry with a unique client id.\n",
      "2017-12-27 21:05:02,894 [ERROR] ezibpy: [#326] Unable connect as the client id is already in use. Retry with a unique client id.\n"
     ]
    },
    {
     "name": "stdout",
     "output_type": "stream",
     "text": [
      "Server Version: 76\n",
      "TWS Time at connection:20171227 21:04:59 IST\n",
      "Server Version: 76\n",
      "TWS Time at connection:20171227 21:04:59 IST\n",
      "Server Version: 76\n",
      "TWS Time at connection:20171227 21:04:59 IST\n"
     ]
    },
    {
     "name": "stderr",
     "output_type": "stream",
     "text": [
      "2017-12-27 21:05:03,170 [ERROR] ezibpy: [#326] Unable connect as the client id is already in use. Retry with a unique client id.\n",
      "2017-12-27 21:05:03,217 [ERROR] ezibpy: [#326] Unable connect as the client id is already in use. Retry with a unique client id.\n"
     ]
    },
    {
     "name": "stdout",
     "output_type": "stream",
     "text": [
      "Server Version: 76\n",
      "TWS Time at connection:20171227 21:04:59 IST\n",
      "Server Version: 76\n",
      "TWS Time at connection:20171227 21:04:59 IST\n"
     ]
    },
    {
     "name": "stderr",
     "output_type": "stream",
     "text": [
      "2017-12-27 21:05:03,362 [ERROR] ezibpy: [#326] Unable connect as the client id is already in use. Retry with a unique client id.\n",
      "2017-12-27 21:05:03,373 [ERROR] ezibpy: [#504] Not connected\n",
      "2017-12-27 21:05:03,378 [ERROR] ezibpy: [#326] Unable connect as the client id is already in use. Retry with a unique client id.\n"
     ]
    },
    {
     "name": "stdout",
     "output_type": "stream",
     "text": [
      "Server Version: 76\n",
      "TWS Time at connection:20171227 21:04:59 IST\n",
      "Server Version: 76\n"
     ]
    },
    {
     "name": "stderr",
     "output_type": "stream",
     "text": [
      "2017-12-27 21:05:03,522 [ERROR] ezibpy: [#326] Unable connect as the client id is already in use. Retry with a unique client id.\n"
     ]
    },
    {
     "name": "stdout",
     "output_type": "stream",
     "text": [
      "TWS Time at connection:20171227 21:04:59 IST\n",
      "Server Version: 76\n",
      "TWS Time at connection:20171227 21:05:00 IST\n"
     ]
    },
    {
     "name": "stderr",
     "output_type": "stream",
     "text": [
      "2017-12-27 21:05:03,850 [ERROR] ezibpy: [#326] Unable connect as the client id is already in use. Retry with a unique client id.\n",
      "2017-12-27 21:05:04,442 [ERROR] ezibpy: [#326] Unable connect as the client id is already in use. Retry with a unique client id.\n"
     ]
    },
    {
     "name": "stdout",
     "output_type": "stream",
     "text": [
      "Server Version: 76\n",
      "TWS Time at connection:20171227 21:05:00 IST\n",
      "Server Version: 76\n"
     ]
    },
    {
     "name": "stderr",
     "output_type": "stream",
     "text": [
      "2017-12-27 21:05:04,559 [ERROR] ezibpy: [#326] Unable connect as the client id is already in use. Retry with a unique client id.\n",
      "2017-12-27 21:05:04,560 [ERROR] ezibpy: [#504] Not connected\n"
     ]
    },
    {
     "name": "stdout",
     "output_type": "stream",
     "text": [
      "TWS Time at connection:20171227 21:05:00 IST\n",
      "Server Version: 76\n"
     ]
    },
    {
     "name": "stderr",
     "output_type": "stream",
     "text": [
      "2017-12-27 21:05:04,771 [ERROR] ezibpy: [#326] Unable connect as the client id is already in use. Retry with a unique client id.\n",
      "2017-12-27 21:05:04,815 [ERROR] ezibpy: [#326] Unable connect as the client id is already in use. Retry with a unique client id.\n"
     ]
    },
    {
     "name": "stdout",
     "output_type": "stream",
     "text": [
      "TWS Time at connection:20171227 21:05:00 IST\n",
      "Server Version: 76\n",
      "TWS Time at connection:20171227 21:05:01 IST\n",
      "Server Version: 76\n"
     ]
    },
    {
     "name": "stderr",
     "output_type": "stream",
     "text": [
      "2017-12-27 21:05:04,830 [ERROR] ezibpy: [#504] Not connected\n",
      "2017-12-27 21:05:04,832 [ERROR] ezibpy: [#326] Unable connect as the client id is already in use. Retry with a unique client id.\n",
      "2017-12-27 21:05:04,839 [ERROR] ezibpy: [#326] Unable connect as the client id is already in use. Retry with a unique client id.\n",
      "2017-12-27 21:05:04,849 [ERROR] ezibpy: [#326] Unable connect as the client id is already in use. Retry with a unique client id.\n",
      "2017-12-27 21:05:04,865 [ERROR] ezibpy: [#326] Unable connect as the client id is already in use. Retry with a unique client id.\n"
     ]
    },
    {
     "name": "stdout",
     "output_type": "stream",
     "text": [
      "TWS Time at connection:20171227 21:05:01 IST\n",
      "Server Version: 76\n",
      "TWS Time at connection:20171227 21:05:01 IST\n",
      "Server Version: 76\n",
      "TWS Time at connection:20171227 21:05:01 IST\n",
      "Server Version: 76\n",
      "TWS Time at connection:20171227 21:05:01 IST\n",
      "Server Version: 76\n"
     ]
    },
    {
     "name": "stderr",
     "output_type": "stream",
     "text": [
      "2017-12-27 21:05:04,966 [ERROR] ezibpy: [#326] Unable connect as the client id is already in use. Retry with a unique client id.\n"
     ]
    },
    {
     "name": "stdout",
     "output_type": "stream",
     "text": [
      "TWS Time at connection:20171227 21:05:01 IST\n",
      "Server Version: 76\n",
      "TWS Time at connection:20171227 21:05:01 IST\n"
     ]
    },
    {
     "name": "stderr",
     "output_type": "stream",
     "text": [
      "2017-12-27 21:05:05,091 [ERROR] ezibpy: [#326] Unable connect as the client id is already in use. Retry with a unique client id.\n",
      "2017-12-27 21:05:05,314 [ERROR] ezibpy: [#326] Unable connect as the client id is already in use. Retry with a unique client id.\n"
     ]
    },
    {
     "name": "stdout",
     "output_type": "stream",
     "text": [
      "Server Version: 76\n",
      "TWS Time at connection:20171227 21:05:01 IST\n",
      "Server Version: 76\n"
     ]
    },
    {
     "name": "stderr",
     "output_type": "stream",
     "text": [
      "2017-12-27 21:05:05,366 [ERROR] ezibpy: [#326] Unable connect as the client id is already in use. Retry with a unique client id.\n",
      "2017-12-27 21:05:05,411 [ERROR] ezibpy: [#326] Unable connect as the client id is already in use. Retry with a unique client id.\n"
     ]
    },
    {
     "name": "stdout",
     "output_type": "stream",
     "text": [
      "TWS Time at connection:20171227 21:05:01 IST\n",
      "Server Version: 76\n",
      "TWS Time at connection:20171227 21:05:01 IST\n",
      "Server Version: 76\n",
      "TWS Time at connection:20171227 21:05:01 IST\n"
     ]
    },
    {
     "name": "stderr",
     "output_type": "stream",
     "text": [
      "2017-12-27 21:05:05,425 [ERROR] ezibpy: [#326] Unable connect as the client id is already in use. Retry with a unique client id.\n",
      "2017-12-27 21:05:05,439 [ERROR] ezibpy: [#326] Unable connect as the client id is already in use. Retry with a unique client id.\n",
      "2017-12-27 21:05:05,470 [ERROR] ezibpy: [#326] Unable connect as the client id is already in use. Retry with a unique client id.\n",
      "2017-12-27 21:05:05,471 [ERROR] ezibpy: [#504] Not connected\n"
     ]
    },
    {
     "name": "stdout",
     "output_type": "stream",
     "text": [
      "Server Version: 76\n",
      "TWS Time at connection:20171227 21:05:01 IST\n",
      "Server Version: 76\n",
      "TWS Time at connection:20171227 21:05:01 IST\n",
      "Server Version: 76\n",
      "TWS Time at connection:20171227 21:05:01 IST\n"
     ]
    },
    {
     "name": "stderr",
     "output_type": "stream",
     "text": [
      "2017-12-27 21:05:05,513 [ERROR] ezibpy: [#326] Unable connect as the client id is already in use. Retry with a unique client id.\n",
      "2017-12-27 21:05:05,618 [ERROR] ezibpy: [#326] Unable connect as the client id is already in use. Retry with a unique client id.\n",
      "2017-12-27 21:05:05,626 [ERROR] ezibpy: [#326] Unable connect as the client id is already in use. Retry with a unique client id.\n"
     ]
    },
    {
     "name": "stdout",
     "output_type": "stream",
     "text": [
      "Server Version: 76\n",
      "TWS Time at connection:20171227 21:05:01 IST\n",
      "Server Version: 76\n",
      "TWS Time at connection:20171227 21:05:01 IST\n",
      "Server Version: 76\n",
      "TWS Time at connection:20171227 21:05:02 IST\n"
     ]
    },
    {
     "name": "stderr",
     "output_type": "stream",
     "text": [
      "2017-12-27 21:05:05,818 [ERROR] ezibpy: [#326] Unable connect as the client id is already in use. Retry with a unique client id.\n",
      "2017-12-27 21:05:05,877 [ERROR] ezibpy: [#326] Unable connect as the client id is already in use. Retry with a unique client id.\n",
      "2017-12-27 21:05:05,886 [ERROR] ezibpy: [#326] Unable connect as the client id is already in use. Retry with a unique client id.\n",
      "2017-12-27 21:05:05,917 [ERROR] ezibpy: [#326] Unable connect as the client id is already in use. Retry with a unique client id.\n",
      "2017-12-27 21:05:05,935 [ERROR] ezibpy: [#326] Unable connect as the client id is already in use. Retry with a unique client id.\n"
     ]
    },
    {
     "name": "stdout",
     "output_type": "stream",
     "text": [
      "Server Version: 76\n",
      "TWS Time at connection:20171227 21:05:02 IST\n",
      "Server Version: 76\n",
      "TWS Time at connection:20171227 21:05:02 IST\n",
      "Server Version: 76\n",
      "TWS Time at connection:20171227 21:05:02 IST\n",
      "Server Version: 76\n",
      "TWS Time at connection:20171227 21:05:02 IST\n",
      "Server Version: 76\n"
     ]
    },
    {
     "name": "stderr",
     "output_type": "stream",
     "text": [
      "2017-12-27 21:05:05,953 [ERROR] ezibpy: [#504] Not connected\n",
      "2017-12-27 21:05:05,955 [ERROR] ezibpy: [#326] Unable connect as the client id is already in use. Retry with a unique client id.\n",
      "2017-12-27 21:05:05,988 [ERROR] ezibpy: [#326] Unable connect as the client id is already in use. Retry with a unique client id.\n",
      "2017-12-27 21:05:06,005 [ERROR] ezibpy: [#326] Unable connect as the client id is already in use. Retry with a unique client id.\n"
     ]
    },
    {
     "name": "stdout",
     "output_type": "stream",
     "text": [
      "TWS Time at connection:20171227 21:05:02 IST\n",
      "Server Version: 76\n",
      "TWS Time at connection:20171227 21:05:02 IST\n",
      "Server Version: 76\n",
      "TWS Time at connection:20171227 21:05:02 IST\n",
      "Server Version: 76\n",
      "TWS Time at connection:20171227 21:05:02 IST\n"
     ]
    },
    {
     "name": "stderr",
     "output_type": "stream",
     "text": [
      "2017-12-27 21:05:06,028 [ERROR] ezibpy: [#326] Unable connect as the client id is already in use. Retry with a unique client id.\n",
      "2017-12-27 21:05:06,147 [ERROR] ezibpy: [#326] Unable connect as the client id is already in use. Retry with a unique client id.\n",
      "2017-12-27 21:05:06,159 [ERROR] ezibpy: [#326] Unable connect as the client id is already in use. Retry with a unique client id.\n"
     ]
    },
    {
     "name": "stdout",
     "output_type": "stream",
     "text": [
      "Server Version: 76\n",
      "TWS Time at connection:20171227 21:05:02 IST\n",
      "Server Version: 76\n",
      "TWS Time at connection:20171227 21:05:02 IST\n",
      "Server Version: 76\n",
      "TWS Time at connection:20171227 21:05:02 IST\n",
      "Server Version: 76\n",
      "TWS Time at connection:20171227 21:05:02 IST\n"
     ]
    },
    {
     "name": "stderr",
     "output_type": "stream",
     "text": [
      "2017-12-27 21:05:06,340 [ERROR] ezibpy: [#504] Not connected\n",
      "2017-12-27 21:05:06,342 [ERROR] ezibpy: [#326] Unable connect as the client id is already in use. Retry with a unique client id.\n",
      "2017-12-27 21:05:06,364 [ERROR] ezibpy: [#326] Unable connect as the client id is already in use. Retry with a unique client id.\n",
      "2017-12-27 21:05:06,461 [ERROR] ezibpy: [#326] Unable connect as the client id is already in use. Retry with a unique client id.\n"
     ]
    },
    {
     "name": "stdout",
     "output_type": "stream",
     "text": [
      "Server Version: 76\n",
      "TWS Time at connection:20171227 21:05:02 IST\n",
      "Server Version: 76\n",
      "TWS Time at connection:20171227 21:05:02 IST\n"
     ]
    },
    {
     "name": "stderr",
     "output_type": "stream",
     "text": [
      "2017-12-27 21:05:06,676 [ERROR] ezibpy: [#326] Unable connect as the client id is already in use. Retry with a unique client id.\n",
      "2017-12-27 21:05:06,816 [ERROR] ezibpy: [#326] Unable connect as the client id is already in use. Retry with a unique client id.\n"
     ]
    },
    {
     "name": "stdout",
     "output_type": "stream",
     "text": [
      "Server Version: 76\n",
      "TWS Time at connection:20171227 21:05:02 IST\n",
      "Server Version: 76\n",
      "TWS Time at connection:20171227 21:05:03 IST\n"
     ]
    },
    {
     "name": "stderr",
     "output_type": "stream",
     "text": [
      "2017-12-27 21:05:06,877 [ERROR] ezibpy: [#326] Unable connect as the client id is already in use. Retry with a unique client id.\n",
      "2017-12-27 21:05:07,000 [ERROR] ezibpy: [#504] Not connected\n",
      "2017-12-27 21:05:07,004 [ERROR] ezibpy: [#326] Unable connect as the client id is already in use. Retry with a unique client id.\n",
      "2017-12-27 21:05:07,033 [ERROR] ezibpy: [#326] Unable connect as the client id is already in use. Retry with a unique client id.\n"
     ]
    },
    {
     "name": "stdout",
     "output_type": "stream",
     "text": [
      "Server Version: 76\n",
      "TWS Time at connection:20171227 21:05:03 IST\n",
      "Server Version: 76\n",
      "TWS Time at connection:20171227 21:05:03 IST\n",
      "Server Version: 76\n",
      "TWS Time at connection:20171227 21:05:03 IST\n"
     ]
    },
    {
     "name": "stderr",
     "output_type": "stream",
     "text": [
      "2017-12-27 21:05:07,069 [ERROR] ezibpy: [#326] Unable connect as the client id is already in use. Retry with a unique client id.\n",
      "2017-12-27 21:05:07,121 [ERROR] ezibpy: [#326] Unable connect as the client id is already in use. Retry with a unique client id.\n",
      "2017-12-27 21:05:07,138 [ERROR] ezibpy: [#326] Unable connect as the client id is already in use. Retry with a unique client id.\n",
      "2017-12-27 21:05:07,165 [ERROR] ezibpy: [#326] Unable connect as the client id is already in use. Retry with a unique client id.\n"
     ]
    },
    {
     "name": "stdout",
     "output_type": "stream",
     "text": [
      "Server Version: 76\n",
      "TWS Time at connection:20171227 21:05:03 IST\n",
      "Server Version: 76\n",
      "TWS Time at connection:20171227 21:05:03 IST\n",
      "Server Version: 76\n",
      "TWS Time at connection:20171227 21:05:03 IST\n",
      "Server Version: 76\n",
      "TWS Time at connection:20171227 21:05:03 IST\n"
     ]
    },
    {
     "name": "stderr",
     "output_type": "stream",
     "text": [
      "2017-12-27 21:05:07,185 [ERROR] ezibpy: [#326] Unable connect as the client id is already in use. Retry with a unique client id.\n",
      "2017-12-27 21:05:07,252 [ERROR] ezibpy: [#326] Unable connect as the client id is already in use. Retry with a unique client id.\n",
      "2017-12-27 21:05:07,263 [ERROR] ezibpy: [#326] Unable connect as the client id is already in use. Retry with a unique client id.\n",
      "2017-12-27 21:05:07,278 [ERROR] ezibpy: [#326] Unable connect as the client id is already in use. Retry with a unique client id.\n"
     ]
    },
    {
     "name": "stdout",
     "output_type": "stream",
     "text": [
      "Server Version: 76\n",
      "TWS Time at connection:20171227 21:05:03 IST\n",
      "Server Version: 76\n",
      "TWS Time at connection:20171227 21:05:03 IST\n",
      "Server Version: 76\n",
      "TWS Time at connection:20171227 21:05:03 IST\n",
      "Server Version: 76\n",
      "TWS Time at connection:20171227 21:05:03 IST\n"
     ]
    },
    {
     "name": "stderr",
     "output_type": "stream",
     "text": [
      "2017-12-27 21:05:07,328 [ERROR] ezibpy: [#326] Unable connect as the client id is already in use. Retry with a unique client id.\n",
      "2017-12-27 21:05:07,340 [ERROR] ezibpy: [#326] Unable connect as the client id is already in use. Retry with a unique client id.\n",
      "2017-12-27 21:05:07,361 [ERROR] ezibpy: [#504] Not connected\n",
      "2017-12-27 21:05:07,385 [ERROR] ezibpy: [#326] Unable connect as the client id is already in use. Retry with a unique client id.\n"
     ]
    },
    {
     "name": "stdout",
     "output_type": "stream",
     "text": [
      "Server Version: 76\n",
      "TWS Time at connection:20171227 21:05:03 IST\n",
      "Server Version: 76\n",
      "TWS Time at connection:20171227 21:05:03 IST\n",
      "Server Version: 76\n",
      "TWS Time at connection:20171227 21:05:03 IST\n"
     ]
    },
    {
     "name": "stderr",
     "output_type": "stream",
     "text": [
      "2017-12-27 21:05:07,413 [ERROR] ezibpy: [#326] Unable connect as the client id is already in use. Retry with a unique client id.\n",
      "2017-12-27 21:05:07,435 [ERROR] ezibpy: [#326] Unable connect as the client id is already in use. Retry with a unique client id.\n"
     ]
    },
    {
     "name": "stdout",
     "output_type": "stream",
     "text": [
      "Server Version: 76\n",
      "TWS Time at connection:20171227 21:05:03 IST\n",
      "Server Version: 76\n"
     ]
    },
    {
     "name": "stderr",
     "output_type": "stream",
     "text": [
      "2017-12-27 21:05:07,529 [ERROR] ezibpy: [#326] Unable connect as the client id is already in use. Retry with a unique client id.\n",
      "2017-12-27 21:05:07,530 [ERROR] ezibpy: [#504] Not connected\n",
      "2017-12-27 21:05:07,544 [ERROR] ezibpy: [#326] Unable connect as the client id is already in use. Retry with a unique client id.\n"
     ]
    },
    {
     "name": "stdout",
     "output_type": "stream",
     "text": [
      "TWS Time at connection:20171227 21:05:03 IST\n",
      "Server Version: 76\n",
      "TWS Time at connection:20171227 21:05:03 IST\n",
      "Server Version: 76\n",
      "TWS Time at connection:20171227 21:05:03 IST\n"
     ]
    },
    {
     "name": "stderr",
     "output_type": "stream",
     "text": [
      "2017-12-27 21:05:07,587 [ERROR] ezibpy: [#326] Unable connect as the client id is already in use. Retry with a unique client id.\n",
      "2017-12-27 21:05:07,641 [ERROR] ezibpy: [#326] Unable connect as the client id is already in use. Retry with a unique client id.\n",
      "2017-12-27 21:05:07,641 [ERROR] ezibpy: [#504] Not connected\n",
      "2017-12-27 21:05:07,693 [ERROR] ezibpy: [#326] Unable connect as the client id is already in use. Retry with a unique client id.\n"
     ]
    },
    {
     "name": "stdout",
     "output_type": "stream",
     "text": [
      "Server Version: 76\n",
      "TWS Time at connection:20171227 21:05:03 IST\n",
      "Server Version: 76\n",
      "TWS Time at connection:20171227 21:05:03 IST\n",
      "Server Version: 76\n"
     ]
    },
    {
     "name": "stderr",
     "output_type": "stream",
     "text": [
      "2017-12-27 21:05:07,739 [ERROR] ezibpy: [#326] Unable connect as the client id is already in use. Retry with a unique client id.\n",
      "2017-12-27 21:05:07,762 [ERROR] ezibpy: [#326] Unable connect as the client id is already in use. Retry with a unique client id.\n",
      "2017-12-27 21:05:07,776 [ERROR] ezibpy: [#326] Unable connect as the client id is already in use. Retry with a unique client id.\n"
     ]
    },
    {
     "name": "stdout",
     "output_type": "stream",
     "text": [
      "TWS Time at connection:20171227 21:05:03 IST\n",
      "Server Version: 76\n",
      "TWS Time at connection:20171227 21:05:03 IST\n",
      "Server Version: 76\n",
      "TWS Time at connection:20171227 21:05:03 IST\n",
      "Server Version: 76\n",
      "TWS Time at connection:20171227 21:05:03 IST\n"
     ]
    },
    {
     "name": "stderr",
     "output_type": "stream",
     "text": [
      "2017-12-27 21:05:07,791 [ERROR] ezibpy: [#326] Unable connect as the client id is already in use. Retry with a unique client id.\n",
      "2017-12-27 21:05:07,811 [ERROR] ezibpy: [#326] Unable connect as the client id is already in use. Retry with a unique client id.\n",
      "2017-12-27 21:05:07,854 [ERROR] ezibpy: [#326] Unable connect as the client id is already in use. Retry with a unique client id.\n"
     ]
    },
    {
     "name": "stdout",
     "output_type": "stream",
     "text": [
      "Server Version: 76\n",
      "TWS Time at connection:20171227 21:05:03 IST\n",
      "Server Version: 76\n",
      "TWS Time at connection:20171227 21:05:04 IST\n",
      "Server Version: 76\n",
      "TWS Time at connection:20171227 21:05:04 IST\n"
     ]
    },
    {
     "name": "stderr",
     "output_type": "stream",
     "text": [
      "2017-12-27 21:05:07,923 [ERROR] ezibpy: [#326] Unable connect as the client id is already in use. Retry with a unique client id.\n",
      "2017-12-27 21:05:07,940 [ERROR] ezibpy: [#504] Not connected\n",
      "2017-12-27 21:05:07,944 [ERROR] ezibpy: [#326] Unable connect as the client id is already in use. Retry with a unique client id.\n",
      "2017-12-27 21:05:07,954 [ERROR] ezibpy: [#326] Unable connect as the client id is already in use. Retry with a unique client id.\n",
      "2017-12-27 21:05:07,963 [ERROR] ezibpy: [#326] Unable connect as the client id is already in use. Retry with a unique client id.\n"
     ]
    },
    {
     "name": "stdout",
     "output_type": "stream",
     "text": [
      "Server Version: 76\n",
      "TWS Time at connection:20171227 21:05:04 IST\n",
      "Server Version: 76\n",
      "TWS Time at connection:20171227 21:05:04 IST\n",
      "Server Version: 76\n",
      "TWS Time at connection:20171227 21:05:04 IST\n",
      "Server Version: 76\n",
      "TWS Time at connection:20171227 21:05:04 IST\n"
     ]
    },
    {
     "name": "stderr",
     "output_type": "stream",
     "text": [
      "2017-12-27 21:05:08,030 [ERROR] ezibpy: [#326] Unable connect as the client id is already in use. Retry with a unique client id.\n",
      "2017-12-27 21:05:08,065 [ERROR] ezibpy: [#326] Unable connect as the client id is already in use. Retry with a unique client id.\n",
      "2017-12-27 21:05:08,093 [ERROR] ezibpy: [#326] Unable connect as the client id is already in use. Retry with a unique client id.\n"
     ]
    },
    {
     "name": "stdout",
     "output_type": "stream",
     "text": [
      "Server Version: 76\n",
      "TWS Time at connection:20171227 21:05:04 IST\n",
      "Server Version: 76\n",
      "TWS Time at connection:20171227 21:05:04 IST\n",
      "Server Version: 76\n",
      "TWS Time at connection:20171227 21:05:04 IST\n"
     ]
    },
    {
     "name": "stderr",
     "output_type": "stream",
     "text": [
      "2017-12-27 21:05:08,161 [ERROR] ezibpy: [#326] Unable connect as the client id is already in use. Retry with a unique client id.\n",
      "2017-12-27 21:05:08,173 [ERROR] ezibpy: [#326] Unable connect as the client id is already in use. Retry with a unique client id.\n"
     ]
    },
    {
     "name": "stdout",
     "output_type": "stream",
     "text": [
      "Server Version: 76\n",
      "TWS Time at connection:20171227 21:05:04 IST\n",
      "Server Version: 76\n",
      "TWS Time at connection:20171227 21:05:04 IST\n"
     ]
    },
    {
     "name": "stderr",
     "output_type": "stream",
     "text": [
      "2017-12-27 21:05:08,249 [ERROR] ezibpy: [#326] Unable connect as the client id is already in use. Retry with a unique client id.\n",
      "2017-12-27 21:05:08,271 [ERROR] ezibpy: [#326] Unable connect as the client id is already in use. Retry with a unique client id.\n",
      "2017-12-27 21:05:08,304 [ERROR] ezibpy: [#326] Unable connect as the client id is already in use. Retry with a unique client id.\n",
      "2017-12-27 21:05:08,328 [ERROR] ezibpy: [#326] Unable connect as the client id is already in use. Retry with a unique client id.\n"
     ]
    },
    {
     "name": "stdout",
     "output_type": "stream",
     "text": [
      "Server Version: 76\n",
      "TWS Time at connection:20171227 21:05:04 IST\n",
      "Server Version: 76\n",
      "TWS Time at connection:20171227 21:05:04 IST\n",
      "Server Version: 76\n",
      "TWS Time at connection:20171227 21:05:04 IST\n",
      "Server Version: 76\n",
      "TWS Time at connection:20171227 21:05:04 IST\n"
     ]
    },
    {
     "name": "stderr",
     "output_type": "stream",
     "text": [
      "2017-12-27 21:05:08,351 [ERROR] ezibpy: [#504] Not connected\n",
      "2017-12-27 21:05:08,354 [ERROR] ezibpy: [#504] Not connected\n",
      "2017-12-27 21:05:08,364 [ERROR] ezibpy: [#326] Unable connect as the client id is already in use. Retry with a unique client id.\n",
      "2017-12-27 21:05:08,366 [ERROR] ezibpy: [#504] Not connected\n",
      "2017-12-27 21:05:08,372 [ERROR] ezibpy: [#326] Unable connect as the client id is already in use. Retry with a unique client id.\n",
      "2017-12-27 21:05:08,382 [ERROR] ezibpy: [#326] Unable connect as the client id is already in use. Retry with a unique client id.\n",
      "2017-12-27 21:05:08,407 [ERROR] ezibpy: [#326] Unable connect as the client id is already in use. Retry with a unique client id.\n"
     ]
    },
    {
     "name": "stdout",
     "output_type": "stream",
     "text": [
      "Server Version: 76\n",
      "TWS Time at connection:20171227 21:05:04 IST\n",
      "Server Version: 76\n",
      "TWS Time at connection:20171227 21:05:04 IST\n",
      "Server Version: 76\n",
      "TWS Time at connection:20171227 21:05:04 IST\n",
      "Server Version: 76\n",
      "TWS Time at connection:20171227 21:05:04 IST\n"
     ]
    },
    {
     "name": "stderr",
     "output_type": "stream",
     "text": [
      "2017-12-27 21:05:08,444 [ERROR] ezibpy: [#326] Unable connect as the client id is already in use. Retry with a unique client id.\n",
      "2017-12-27 21:05:08,500 [ERROR] ezibpy: [#326] Unable connect as the client id is already in use. Retry with a unique client id.\n",
      "2017-12-27 21:05:08,521 [ERROR] ezibpy: [#326] Unable connect as the client id is already in use. Retry with a unique client id.\n",
      "2017-12-27 21:05:08,538 [ERROR] ezibpy: [#326] Unable connect as the client id is already in use. Retry with a unique client id.\n"
     ]
    },
    {
     "name": "stdout",
     "output_type": "stream",
     "text": [
      "Server Version: 76\n",
      "TWS Time at connection:20171227 21:05:04 IST\n",
      "Server Version: 76\n",
      "TWS Time at connection:20171227 21:05:04 IST\n",
      "Server Version: 76\n",
      "TWS Time at connection:20171227 21:05:04 IST\n",
      "Server Version: 76\n",
      "TWS Time at connection:20171227 21:05:04 IST\n"
     ]
    },
    {
     "name": "stderr",
     "output_type": "stream",
     "text": [
      "2017-12-27 21:05:08,554 [ERROR] ezibpy: [#326] Unable connect as the client id is already in use. Retry with a unique client id.\n",
      "2017-12-27 21:05:08,572 [ERROR] ezibpy: [#326] Unable connect as the client id is already in use. Retry with a unique client id.\n",
      "2017-12-27 21:05:08,621 [ERROR] ezibpy: [#326] Unable connect as the client id is already in use. Retry with a unique client id.\n"
     ]
    },
    {
     "name": "stdout",
     "output_type": "stream",
     "text": [
      "Server Version: 76\n",
      "TWS Time at connection:20171227 21:05:04 IST\n",
      "Server Version: 76\n",
      "TWS Time at connection:20171227 21:05:04 IST\n",
      "Server Version: 76\n",
      "TWS Time at connection:20171227 21:05:04 IST\n"
     ]
    },
    {
     "name": "stderr",
     "output_type": "stream",
     "text": [
      "2017-12-27 21:05:08,638 [ERROR] ezibpy: [#326] Unable connect as the client id is already in use. Retry with a unique client id.\n",
      "2017-12-27 21:05:08,660 [ERROR] ezibpy: [#326] Unable connect as the client id is already in use. Retry with a unique client id.\n",
      "2017-12-27 21:05:08,711 [ERROR] ezibpy: [#326] Unable connect as the client id is already in use. Retry with a unique client id.\n"
     ]
    },
    {
     "name": "stdout",
     "output_type": "stream",
     "text": [
      "Server Version: 76\n",
      "TWS Time at connection:20171227 21:05:04 IST\n",
      "Server Version: 76\n",
      "TWS Time at connection:20171227 21:05:04 IST\n",
      "Server Version: 76\n",
      "TWS Time at connection:20171227 21:05:04 IST\n"
     ]
    },
    {
     "name": "stderr",
     "output_type": "stream",
     "text": [
      "2017-12-27 21:05:08,728 [ERROR] ezibpy: [#326] Unable connect as the client id is already in use. Retry with a unique client id.\n",
      "2017-12-27 21:05:08,759 [ERROR] ezibpy: [#326] Unable connect as the client id is already in use. Retry with a unique client id.\n",
      "2017-12-27 21:05:08,785 [ERROR] ezibpy: [#326] Unable connect as the client id is already in use. Retry with a unique client id.\n",
      "2017-12-27 21:05:08,806 [ERROR] ezibpy: [#326] Unable connect as the client id is already in use. Retry with a unique client id.\n"
     ]
    },
    {
     "name": "stdout",
     "output_type": "stream",
     "text": [
      "Server Version: 76\n",
      "TWS Time at connection:20171227 21:05:04 IST\n",
      "Server Version: 76\n",
      "TWS Time at connection:20171227 21:05:04 IST\n",
      "Server Version: 76\n",
      "TWS Time at connection:20171227 21:05:04 IST\n",
      "Server Version: 76\n",
      "TWS Time at connection:20171227 21:05:05 IST\n"
     ]
    },
    {
     "name": "stderr",
     "output_type": "stream",
     "text": [
      "2017-12-27 21:05:08,827 [ERROR] ezibpy: [#326] Unable connect as the client id is already in use. Retry with a unique client id.\n",
      "2017-12-27 21:05:08,847 [ERROR] ezibpy: [#326] Unable connect as the client id is already in use. Retry with a unique client id.\n",
      "2017-12-27 21:05:08,867 [ERROR] ezibpy: [#326] Unable connect as the client id is already in use. Retry with a unique client id.\n",
      "2017-12-27 21:05:08,889 [ERROR] ezibpy: [#326] Unable connect as the client id is already in use. Retry with a unique client id.\n"
     ]
    },
    {
     "name": "stdout",
     "output_type": "stream",
     "text": [
      "Server Version: 76\n",
      "TWS Time at connection:20171227 21:05:05 IST\n",
      "Server Version: 76\n",
      "TWS Time at connection:20171227 21:05:05 IST\n",
      "Server Version: 76\n",
      "TWS Time at connection:20171227 21:05:05 IST\n",
      "Server Version: 76\n",
      "TWS Time at connection:20171227 21:05:05 IST\n"
     ]
    },
    {
     "name": "stderr",
     "output_type": "stream",
     "text": [
      "2017-12-27 21:05:08,898 [ERROR] ezibpy: [#326] Unable connect as the client id is already in use. Retry with a unique client id.\n",
      "2017-12-27 21:05:08,916 [ERROR] ezibpy: [#326] Unable connect as the client id is already in use. Retry with a unique client id.\n"
     ]
    },
    {
     "name": "stdout",
     "output_type": "stream",
     "text": [
      "Server Version: 76\n",
      "TWS Time at connection:20171227 21:05:05 IST\n",
      "Server Version: 76\n",
      "TWS Time at connection:20171227 21:05:05 IST\n"
     ]
    },
    {
     "name": "stderr",
     "output_type": "stream",
     "text": [
      "2017-12-27 21:05:09,030 [ERROR] ezibpy: [#326] Unable connect as the client id is already in use. Retry with a unique client id.\n",
      "2017-12-27 21:05:09,046 [ERROR] ezibpy: [#326] Unable connect as the client id is already in use. Retry with a unique client id.\n",
      "2017-12-27 21:05:09,055 [ERROR] ezibpy: [#326] Unable connect as the client id is already in use. Retry with a unique client id.\n",
      "2017-12-27 21:05:09,074 [ERROR] ezibpy: [#326] Unable connect as the client id is already in use. Retry with a unique client id.\n",
      "2017-12-27 21:05:09,088 [ERROR] ezibpy: [#326] Unable connect as the client id is already in use. Retry with a unique client id.\n",
      "2017-12-27 21:05:09,090 [ERROR] ezibpy: [#504] Not connected\n"
     ]
    },
    {
     "name": "stdout",
     "output_type": "stream",
     "text": [
      "Server Version: 76\n",
      "TWS Time at connection:20171227 21:05:05 IST\n",
      "Server Version: 76\n",
      "TWS Time at connection:20171227 21:05:05 IST\n",
      "Server Version: 76\n",
      "TWS Time at connection:20171227 21:05:05 IST\n",
      "Server Version: 76\n",
      "TWS Time at connection:20171227 21:05:05 IST\n",
      "Server Version: 76\n"
     ]
    },
    {
     "name": "stderr",
     "output_type": "stream",
     "text": [
      "2017-12-27 21:05:09,115 [ERROR] ezibpy: [#326] Unable connect as the client id is already in use. Retry with a unique client id.\n",
      "2017-12-27 21:05:09,143 [ERROR] ezibpy: [#326] Unable connect as the client id is already in use. Retry with a unique client id.\n"
     ]
    },
    {
     "name": "stdout",
     "output_type": "stream",
     "text": [
      "TWS Time at connection:20171227 21:05:05 IST\n",
      "Server Version: 76\n",
      "TWS Time at connection:20171227 21:05:05 IST\n",
      "Server Version: 76\n",
      "TWS Time at connection:20171227 21:05:05 IST\n"
     ]
    },
    {
     "name": "stderr",
     "output_type": "stream",
     "text": [
      "2017-12-27 21:05:09,170 [ERROR] ezibpy: [#326] Unable connect as the client id is already in use. Retry with a unique client id.\n",
      "2017-12-27 21:05:09,170 [ERROR] ezibpy: [#504] Not connected\n",
      "2017-12-27 21:05:09,198 [ERROR] ezibpy: [#326] Unable connect as the client id is already in use. Retry with a unique client id.\n",
      "2017-12-27 21:05:09,215 [ERROR] ezibpy: [#504] Not connected\n",
      "2017-12-27 21:05:09,218 [ERROR] ezibpy: [#326] Unable connect as the client id is already in use. Retry with a unique client id.\n",
      "2017-12-27 21:05:09,233 [ERROR] ezibpy: [#504] Not connected\n"
     ]
    },
    {
     "name": "stdout",
     "output_type": "stream",
     "text": [
      "Server Version: 76\n",
      "TWS Time at connection:20171227 21:05:05 IST\n",
      "Server Version: 76\n",
      "TWS Time at connection:20171227 21:05:05 IST\n",
      "Server Version: 76\n",
      "TWS Time at connection:20171227 21:05:05 IST\n"
     ]
    },
    {
     "name": "stderr",
     "output_type": "stream",
     "text": [
      "2017-12-27 21:05:09,244 [ERROR] ezibpy: [#326] Unable connect as the client id is already in use. Retry with a unique client id.\n",
      "2017-12-27 21:05:09,262 [ERROR] ezibpy: [#326] Unable connect as the client id is already in use. Retry with a unique client id.\n",
      "2017-12-27 21:05:09,273 [ERROR] ezibpy: [#504] Not connected\n",
      "2017-12-27 21:05:09,283 [ERROR] ezibpy: [#326] Unable connect as the client id is already in use. Retry with a unique client id.\n",
      "2017-12-27 21:05:09,317 [ERROR] ezibpy: [#326] Unable connect as the client id is already in use. Retry with a unique client id.\n"
     ]
    },
    {
     "name": "stdout",
     "output_type": "stream",
     "text": [
      "Server Version: 76\n",
      "TWS Time at connection:20171227 21:05:05 IST\n",
      "Server Version: 76\n",
      "TWS Time at connection:20171227 21:05:05 IST\n",
      "Server Version: 76\n",
      "TWS Time at connection:20171227 21:05:05 IST\n",
      "Server Version: 76\n"
     ]
    },
    {
     "name": "stderr",
     "output_type": "stream",
     "text": [
      "2017-12-27 21:05:09,343 [ERROR] ezibpy: [#326] Unable connect as the client id is already in use. Retry with a unique client id.\n",
      "2017-12-27 21:05:09,361 [ERROR] ezibpy: [#326] Unable connect as the client id is already in use. Retry with a unique client id.\n",
      "2017-12-27 21:05:09,370 [ERROR] ezibpy: [#326] Unable connect as the client id is already in use. Retry with a unique client id.\n"
     ]
    },
    {
     "name": "stdout",
     "output_type": "stream",
     "text": [
      "TWS Time at connection:20171227 21:05:05 IST\n",
      "Server Version: 76\n",
      "TWS Time at connection:20171227 21:05:05 IST\n",
      "Server Version: 76\n",
      "TWS Time at connection:20171227 21:05:05 IST\n",
      "Server Version: 76\n",
      "TWS Time at connection:20171227 21:05:05 IST\n"
     ]
    },
    {
     "name": "stderr",
     "output_type": "stream",
     "text": [
      "2017-12-27 21:05:09,399 [ERROR] ezibpy: [#326] Unable connect as the client id is already in use. Retry with a unique client id.\n",
      "2017-12-27 21:05:09,520 [ERROR] ezibpy: [#504] Not connected\n",
      "2017-12-27 21:05:09,523 [ERROR] ezibpy: [#326] Unable connect as the client id is already in use. Retry with a unique client id.\n",
      "2017-12-27 21:05:09,544 [ERROR] ezibpy: [#504] Not connected\n",
      "2017-12-27 21:05:09,553 [ERROR] ezibpy: [#326] Unable connect as the client id is already in use. Retry with a unique client id.\n"
     ]
    },
    {
     "name": "stdout",
     "output_type": "stream",
     "text": [
      "Server Version: 76\n",
      "TWS Time at connection:20171227 21:05:05 IST\n",
      "Server Version: 76\n",
      "TWS Time at connection:20171227 21:05:05 IST\n",
      "Server Version: 76\n",
      "TWS Time at connection:20171227 21:05:05 IST\n"
     ]
    },
    {
     "name": "stderr",
     "output_type": "stream",
     "text": [
      "2017-12-27 21:05:09,691 [ERROR] ezibpy: [#504] Not connected\n",
      "2017-12-27 21:05:09,693 [ERROR] ezibpy: [#326] Unable connect as the client id is already in use. Retry with a unique client id.\n",
      "2017-12-27 21:05:09,702 [ERROR] ezibpy: [#504] Not connected\n",
      "2017-12-27 21:05:09,707 [ERROR] ezibpy: [#326] Unable connect as the client id is already in use. Retry with a unique client id.\n",
      "2017-12-27 21:05:09,717 [ERROR] ezibpy: [#504] Not connected\n",
      "2017-12-27 21:05:09,722 [ERROR] ezibpy: [#326] Unable connect as the client id is already in use. Retry with a unique client id.\n",
      "2017-12-27 21:05:09,729 [ERROR] ezibpy: [#504] Not connected\n",
      "2017-12-27 21:05:09,733 [ERROR] ezibpy: [#326] Unable connect as the client id is already in use. Retry with a unique client id.\n",
      "2017-12-27 21:05:09,739 [ERROR] ezibpy: [#326] Unable connect as the client id is already in use. Retry with a unique client id.\n"
     ]
    },
    {
     "name": "stdout",
     "output_type": "stream",
     "text": [
      "Server Version: 76\n",
      "TWS Time at connection:20171227 21:05:05 IST\n",
      "Server Version: 76\n",
      "TWS Time at connection:20171227 21:05:05 IST\n",
      "Server Version: 76\n",
      "TWS Time at connection:20171227 21:05:05 IST\n",
      "Server Version: 76\n",
      "TWS Time at connection:20171227 21:05:05 IST\n",
      "Server Version: 76\n"
     ]
    },
    {
     "name": "stderr",
     "output_type": "stream",
     "text": [
      "2017-12-27 21:05:10,375 [ERROR] ezibpy: [#531] Request Current Time Sending Error - [Errno 32] Broken pipe\n",
      "2017-12-27 21:05:10,378 [ERROR] ezibpy: [#326] Unable connect as the client id is already in use. Retry with a unique client id.\n",
      "2017-12-27 21:05:10,390 [ERROR] ezibpy: [#326] Unable connect as the client id is already in use. Retry with a unique client id.\n",
      "ERROR:ibpy:Exception in message dispatch.  Handler 'handleServerEvents' for 'connectionClosed'\n",
      "Traceback (most recent call last):\n",
      "  File \"/Users/itaybd/anaconda/envs/py34/lib/python3.4/site-packages/ib/ext/EClientSocket.py\", line 1638, in reqPositions\n",
      "    self.send(self.REQ_POSITIONS)\n",
      "  File \"/Users/itaybd/anaconda/envs/py34/lib/python3.4/site-packages/ib/lib/overloading.py\", line 82, in __call__\n",
      "    return func(*args)\n",
      "  File \"/Users/itaybd/anaconda/envs/py34/lib/python3.4/site-packages/ib/ext/EClientSocket.py\", line 1765, in send_3\n",
      "    self.send(str(val))\n",
      "  File \"/Users/itaybd/anaconda/envs/py34/lib/python3.4/site-packages/ib/lib/overloading.py\", line 82, in __call__\n",
      "    return func(*args)\n",
      "  File \"/Users/itaybd/anaconda/envs/py34/lib/python3.4/site-packages/ib/ext/EClientSocket.py\", line 1754, in send_1\n",
      "    self.m_dos.write(val)\n",
      "  File \"/Users/itaybd/anaconda/envs/py34/lib/python3.4/site-packages/ib/lib/__init__.py\", line 152, in write\n",
      "    send(pack('!c', char))\n",
      "BrokenPipeError: [Errno 32] Broken pipe\n",
      "\n",
      "During handling of the above exception, another exception occurred:\n",
      "\n",
      "Traceback (most recent call last):\n",
      "  File \"/Users/itaybd/anaconda/envs/py34/lib/python3.4/site-packages/ib/opt/dispatcher.py\", line 44, in __call__\n",
      "    results.append(listener(message))\n",
      "  File \"/Users/itaybd/anaconda/envs/py34/lib/python3.4/site-packages/ezibpy/ezibpy.py\", line 323, in handleServerEvents\n",
      "    self.handleConnectionClosed(msg)\n",
      "  File \"/Users/itaybd/anaconda/envs/py34/lib/python3.4/site-packages/ezibpy/ezibpy.py\", line 379, in handleConnectionClosed\n",
      "    self.reconnect()\n",
      "  File \"/Users/itaybd/anaconda/envs/py34/lib/python3.4/site-packages/ezibpy/ezibpy.py\", line 211, in reconnect\n",
      "    self.connect(self.clientId, self.host, self.port)\n",
      "  File \"/Users/itaybd/anaconda/envs/py34/lib/python3.4/site-packages/ezibpy/ezibpy.py\", line 193, in connect\n",
      "    self.requestPositionUpdates(subscribe=True)\n",
      "  File \"/Users/itaybd/anaconda/envs/py34/lib/python3.4/site-packages/ezibpy/ezibpy.py\", line 1811, in requestPositionUpdates\n",
      "    self.ibConn.reqPositions()\n",
      "  File \"/Users/itaybd/anaconda/envs/py34/lib/python3.4/site-packages/ib/lib/__init__.py\", line 60, in inner\n",
      "    return func(*args, **kwds)\n",
      "  File \"/Users/itaybd/anaconda/envs/py34/lib/python3.4/site-packages/ib/ext/EClientSocket.py\", line 1641, in reqPositions\n",
      "    self.error(EClientErrors.NO_VALID_ID, EClientErrors.FAIL_SEND_REQPOSITIONS, \"\" + e)\n",
      "TypeError: Can't convert 'BrokenPipeError' object to str implicitly\n",
      "ERROR:ibpy:Exception in message dispatch.  Handler 'handleServerEvents' for 'connectionClosed'\n",
      "Traceback (most recent call last):\n",
      "  File \"/Users/itaybd/anaconda/envs/py34/lib/python3.4/site-packages/ib/ext/EClientSocket.py\", line 1638, in reqPositions\n",
      "    self.send(self.REQ_POSITIONS)\n",
      "  File \"/Users/itaybd/anaconda/envs/py34/lib/python3.4/site-packages/ib/lib/overloading.py\", line 82, in __call__\n",
      "    return func(*args)\n",
      "  File \"/Users/itaybd/anaconda/envs/py34/lib/python3.4/site-packages/ib/ext/EClientSocket.py\", line 1765, in send_3\n",
      "    self.send(str(val))\n",
      "  File \"/Users/itaybd/anaconda/envs/py34/lib/python3.4/site-packages/ib/lib/overloading.py\", line 82, in __call__\n",
      "    return func(*args)\n",
      "  File \"/Users/itaybd/anaconda/envs/py34/lib/python3.4/site-packages/ib/ext/EClientSocket.py\", line 1754, in send_1\n",
      "    self.m_dos.write(val)\n",
      "  File \"/Users/itaybd/anaconda/envs/py34/lib/python3.4/site-packages/ib/lib/__init__.py\", line 152, in write\n",
      "    send(pack('!c', char))\n",
      "OSError: [Errno 41] Protocol wrong type for socket\n",
      "\n",
      "During handling of the above exception, another exception occurred:\n",
      "\n",
      "Traceback (most recent call last):\n",
      "  File \"/Users/itaybd/anaconda/envs/py34/lib/python3.4/site-packages/ib/opt/dispatcher.py\", line 44, in __call__\n",
      "    results.append(listener(message))\n",
      "  File \"/Users/itaybd/anaconda/envs/py34/lib/python3.4/site-packages/ezibpy/ezibpy.py\", line 323, in handleServerEvents\n",
      "    self.handleConnectionClosed(msg)\n",
      "  File \"/Users/itaybd/anaconda/envs/py34/lib/python3.4/site-packages/ezibpy/ezibpy.py\", line 379, in handleConnectionClosed\n",
      "    self.reconnect()\n",
      "  File \"/Users/itaybd/anaconda/envs/py34/lib/python3.4/site-packages/ezibpy/ezibpy.py\", line 211, in reconnect\n",
      "    self.connect(self.clientId, self.host, self.port)\n",
      "  File \"/Users/itaybd/anaconda/envs/py34/lib/python3.4/site-packages/ezibpy/ezibpy.py\", line 193, in connect\n",
      "    self.requestPositionUpdates(subscribe=True)\n",
      "  File \"/Users/itaybd/anaconda/envs/py34/lib/python3.4/site-packages/ezibpy/ezibpy.py\", line 1811, in requestPositionUpdates\n",
      "    self.ibConn.reqPositions()\n",
      "  File \"/Users/itaybd/anaconda/envs/py34/lib/python3.4/site-packages/ib/lib/__init__.py\", line 60, in inner\n",
      "    return func(*args, **kwds)\n",
      "  File \"/Users/itaybd/anaconda/envs/py34/lib/python3.4/site-packages/ib/ext/EClientSocket.py\", line 1641, in reqPositions\n",
      "    self.error(EClientErrors.NO_VALID_ID, EClientErrors.FAIL_SEND_REQPOSITIONS, \"\" + e)\n",
      "TypeError: Can't convert 'OSError' object to str implicitly\n",
      "ERROR:ibpy:Exception in message dispatch.  Handler 'handleServerEvents' for 'connectionClosed'\n",
      "Traceback (most recent call last):\n",
      "  File \"/Users/itaybd/anaconda/envs/py34/lib/python3.4/site-packages/ib/ext/EClientSocket.py\", line 1638, in reqPositions\n",
      "    self.send(self.REQ_POSITIONS)\n",
      "  File \"/Users/itaybd/anaconda/envs/py34/lib/python3.4/site-packages/ib/lib/overloading.py\", line 82, in __call__\n",
      "    return func(*args)\n",
      "  File \"/Users/itaybd/anaconda/envs/py34/lib/python3.4/site-packages/ib/ext/EClientSocket.py\", line 1765, in send_3\n",
      "    self.send(str(val))\n",
      "  File \"/Users/itaybd/anaconda/envs/py34/lib/python3.4/site-packages/ib/lib/overloading.py\", line 82, in __call__\n",
      "    return func(*args)\n",
      "  File \"/Users/itaybd/anaconda/envs/py34/lib/python3.4/site-packages/ib/ext/EClientSocket.py\", line 1754, in send_1\n",
      "    self.m_dos.write(val)\n",
      "  File \"/Users/itaybd/anaconda/envs/py34/lib/python3.4/site-packages/ib/lib/__init__.py\", line 152, in write\n",
      "    send(pack('!c', char))\n",
      "BrokenPipeError: [Errno 32] Broken pipe\n",
      "\n",
      "During handling of the above exception, another exception occurred:\n",
      "\n",
      "Traceback (most recent call last):\n",
      "  File \"/Users/itaybd/anaconda/envs/py34/lib/python3.4/site-packages/ib/opt/dispatcher.py\", line 44, in __call__\n",
      "    results.append(listener(message))\n",
      "  File \"/Users/itaybd/anaconda/envs/py34/lib/python3.4/site-packages/ezibpy/ezibpy.py\", line 323, in handleServerEvents\n",
      "    self.handleConnectionClosed(msg)\n",
      "  File \"/Users/itaybd/anaconda/envs/py34/lib/python3.4/site-packages/ezibpy/ezibpy.py\", line 379, in handleConnectionClosed\n",
      "    self.reconnect()\n",
      "  File \"/Users/itaybd/anaconda/envs/py34/lib/python3.4/site-packages/ezibpy/ezibpy.py\", line 211, in reconnect\n",
      "    self.connect(self.clientId, self.host, self.port)\n",
      "  File \"/Users/itaybd/anaconda/envs/py34/lib/python3.4/site-packages/ezibpy/ezibpy.py\", line 193, in connect\n",
      "    self.requestPositionUpdates(subscribe=True)\n",
      "  File \"/Users/itaybd/anaconda/envs/py34/lib/python3.4/site-packages/ezibpy/ezibpy.py\", line 1811, in requestPositionUpdates\n",
      "    self.ibConn.reqPositions()\n",
      "  File \"/Users/itaybd/anaconda/envs/py34/lib/python3.4/site-packages/ib/lib/__init__.py\", line 60, in inner\n",
      "    return func(*args, **kwds)\n",
      "  File \"/Users/itaybd/anaconda/envs/py34/lib/python3.4/site-packages/ib/ext/EClientSocket.py\", line 1641, in reqPositions\n",
      "    self.error(EClientErrors.NO_VALID_ID, EClientErrors.FAIL_SEND_REQPOSITIONS, \"\" + e)\n",
      "TypeError: Can't convert 'BrokenPipeError' object to str implicitly\n"
     ]
    },
    {
     "name": "stdout",
     "output_type": "stream",
     "text": [
      "TWS Time at connection:20171227 21:05:06 IST\n",
      "Server Version: 76\n",
      "TWS Time at connection:20171227 21:05:06 IST\n",
      "Server Version: 76\n"
     ]
    },
    {
     "name": "stderr",
     "output_type": "stream",
     "text": [
      "2017-12-27 21:05:11,464 [ERROR] ezibpy: [#326] Unable connect as the client id is already in use. Retry with a unique client id.\n"
     ]
    },
    {
     "name": "stdout",
     "output_type": "stream",
     "text": [
      "TWS Time at connection:20171227 21:05:07 IST\n",
      "Server Version: 76\n",
      "TWS Time at connection:20171227 21:05:07 IST\n"
     ]
    },
    {
     "name": "stderr",
     "output_type": "stream",
     "text": [
      "2017-12-27 21:05:11,543 [ERROR] ezibpy: [#531] Request Current Time Sending Error - [Errno 32] Broken pipe\n",
      "2017-12-27 21:05:11,546 [ERROR] ezibpy: [#326] Unable connect as the client id is already in use. Retry with a unique client id.\n",
      "2017-12-27 21:05:11,711 [ERROR] ezibpy: [#326] Unable connect as the client id is already in use. Retry with a unique client id.\n",
      "2017-12-27 21:05:12,724 [ERROR] ezibpy: [#504] Not connected\n"
     ]
    },
    {
     "name": "stdout",
     "output_type": "stream",
     "text": [
      "Server Version: 76\n",
      "TWS Time at connection:20171227 21:05:07 IST\n",
      "Server Version: 76\n"
     ]
    },
    {
     "name": "stderr",
     "output_type": "stream",
     "text": [
      "2017-12-27 21:05:12,738 [ERROR] ezibpy: [#513] Account Update Request Sending Error -[Errno 32] Broken pipe\n",
      "2017-12-27 21:05:12,748 [ERROR] ezibpy: [#326] Unable connect as the client id is already in use. Retry with a unique client id.\n",
      "2017-12-27 21:05:12,762 [ERROR] ezibpy: [#326] Unable connect as the client id is already in use. Retry with a unique client id.\n",
      "2017-12-27 21:05:13,793 [ERROR] ezibpy: [#531] Request Current Time Sending Error - [Errno 32] Broken pipe\n"
     ]
    },
    {
     "name": "stdout",
     "output_type": "stream",
     "text": [
      "TWS Time at connection:20171227 21:05:08 IST\n",
      "Server Version: 76\n",
      "TWS Time at connection:20171227 21:05:08 IST\n",
      "Server Version: 76\n",
      "TWS Time at connection:20171227 21:05:10 IST\n"
     ]
    },
    {
     "name": "stderr",
     "output_type": "stream",
     "text": [
      "2017-12-27 21:05:13,825 [ERROR] ezibpy: [#326] Unable connect as the client id is already in use. Retry with a unique client id.\n",
      "2017-12-27 21:05:14,841 [ERROR] ezibpy: [#504] Not connected\n",
      "2017-12-27 21:05:14,852 [ERROR] ezibpy: [#326] Unable connect as the client id is already in use. Retry with a unique client id.\n",
      "2017-12-27 21:05:14,870 [ERROR] ezibpy: [#531] Request Current Time Sending Error - [Errno 32] Broken pipe\n",
      "2017-12-27 21:05:14,874 [ERROR] ezibpy: [#326] Unable connect as the client id is already in use. Retry with a unique client id.\n",
      "2017-12-27 21:05:14,885 [ERROR] ezibpy: [#326] Unable connect as the client id is already in use. Retry with a unique client id.\n"
     ]
    },
    {
     "name": "stdout",
     "output_type": "stream",
     "text": [
      "Server Version: 76\n",
      "TWS Time at connection:20171227 21:05:11 IST\n",
      "Server Version: 76\n",
      "TWS Time at connection:20171227 21:05:11 IST\n",
      "Server Version: 76\n",
      "TWS Time at connection:20171227 21:05:11 IST\n",
      "Server Version: 76\n",
      "TWS Time at connection:20171227 21:05:12 IST\n"
     ]
    },
    {
     "name": "stderr",
     "output_type": "stream",
     "text": [
      "2017-12-27 21:05:15,903 [ERROR] ezibpy: [#326] Unable connect as the client id is already in use. Retry with a unique client id.\n",
      "2017-12-27 21:05:15,912 [ERROR] ezibpy: [#326] Unable connect as the client id is already in use. Retry with a unique client id.\n",
      "2017-12-27 21:05:15,925 [ERROR] ezibpy: [#504] Not connected\n",
      "2017-12-27 21:05:15,935 [ERROR] ezibpy: [#326] Unable connect as the client id is already in use. Retry with a unique client id.\n",
      "2017-12-27 21:05:15,945 [ERROR] ezibpy: [#326] Unable connect as the client id is already in use. Retry with a unique client id.\n",
      "2017-12-27 21:05:15,959 [ERROR] ezibpy: [#504] Not connected\n",
      "2017-12-27 21:05:15,969 [ERROR] ezibpy: [#326] Unable connect as the client id is already in use. Retry with a unique client id.\n"
     ]
    },
    {
     "name": "stdout",
     "output_type": "stream",
     "text": [
      "Server Version: 76\n",
      "TWS Time at connection:20171227 21:05:12 IST\n",
      "Server Version: 76\n",
      "TWS Time at connection:20171227 21:05:12 IST\n",
      "Server Version: 76\n",
      "TWS Time at connection:20171227 21:05:12 IST\n",
      "Server Version: 76\n",
      "TWS Time at connection:20171227 21:05:12 IST\n",
      "Server Version: 76\n",
      "TWS Time at connection:20171227 21:05:12 IST\n"
     ]
    },
    {
     "name": "stderr",
     "output_type": "stream",
     "text": [
      "2017-12-27 21:05:15,973 [ERROR] ezibpy: [#326] Unable connect as the client id is already in use. Retry with a unique client id.\n",
      "2017-12-27 21:05:15,974 [ERROR] ezibpy: [#504] Not connected\n",
      "2017-12-27 21:05:15,976 [ERROR] ezibpy: [#504] Not connected\n",
      "2017-12-27 21:05:15,984 [ERROR] ezibpy: [#326] Unable connect as the client id is already in use. Retry with a unique client id.\n",
      "2017-12-27 21:05:15,987 [ERROR] ezibpy: [#504] Not connected\n",
      "2017-12-27 21:05:15,995 [ERROR] ezibpy: [#504] Not connected\n",
      "2017-12-27 21:05:15,997 [ERROR] ezibpy: [#326] Unable connect as the client id is already in use. Retry with a unique client id.\n",
      "2017-12-27 21:05:16,004 [ERROR] ezibpy: [#504] Not connected\n",
      "2017-12-27 21:05:16,006 [ERROR] ezibpy: [#326] Unable connect as the client id is already in use. Retry with a unique client id.\n",
      "2017-12-27 21:05:16,014 [ERROR] ezibpy: [#504] Not connected\n",
      "2017-12-27 21:05:16,017 [ERROR] ezibpy: [#326] Unable connect as the client id is already in use. Retry with a unique client id.\n",
      "2017-12-27 21:05:16,025 [ERROR] ezibpy: [#326] Unable connect as the client id is already in use. Retry with a unique client id.\n",
      "2017-12-27 21:05:16,032 [ERROR] ezibpy: [#326] Unable connect as the client id is already in use. Retry with a unique client id.\n"
     ]
    },
    {
     "name": "stdout",
     "output_type": "stream",
     "text": [
      "Server Version: 76\n",
      "TWS Time at connection:20171227 21:05:12 IST\n",
      "Server Version: 76\n",
      "TWS Time at connection:20171227 21:05:12 IST\n",
      "Server Version: 76\n",
      "TWS Time at connection:20171227 21:05:12 IST\n",
      "Server Version: 76\n",
      "TWS Time at connection:20171227 21:05:12 IST\n",
      "Server Version: 76\n",
      "TWS Time at connection:20171227 21:05:12 IST\n",
      "Server Version: 76\n",
      "TWS Time at connection:20171227 21:05:12 IST\n",
      "Server Version: 76\n",
      "TWS Time at connection:20171227 21:05:12 IST\n"
     ]
    },
    {
     "name": "stderr",
     "output_type": "stream",
     "text": [
      "2017-12-27 21:05:16,043 [ERROR] ezibpy: [#326] Unable connect as the client id is already in use. Retry with a unique client id.\n",
      "2017-12-27 21:05:16,043 [ERROR] ezibpy: [#504] Not connected\n",
      "2017-12-27 21:05:16,070 [ERROR] ezibpy: [#326] Unable connect as the client id is already in use. Retry with a unique client id.\n",
      "2017-12-27 21:05:16,083 [ERROR] ezibpy: [#326] Unable connect as the client id is already in use. Retry with a unique client id.\n",
      "2017-12-27 21:05:16,090 [ERROR] ezibpy: [#504] Not connected\n",
      "2017-12-27 21:05:16,095 [ERROR] ezibpy: [#326] Unable connect as the client id is already in use. Retry with a unique client id.\n",
      "2017-12-27 21:05:16,110 [ERROR] ezibpy: [#326] Unable connect as the client id is already in use. Retry with a unique client id.\n",
      "2017-12-27 21:05:16,125 [ERROR] ezibpy: [#326] Unable connect as the client id is already in use. Retry with a unique client id.\n"
     ]
    },
    {
     "name": "stdout",
     "output_type": "stream",
     "text": [
      "Server Version: 76\n",
      "TWS Time at connection:20171227 21:05:12 IST\n",
      "Server Version: 76\n",
      "TWS Time at connection:20171227 21:05:12 IST\n",
      "Server Version: 76\n",
      "TWS Time at connection:20171227 21:05:12 IST\n",
      "Server Version: 76\n",
      "TWS Time at connection:20171227 21:05:12 IST\n",
      "Server Version: 76\n",
      "TWS Time at connection:20171227 21:05:12 IST\n",
      "Server Version: 76\n"
     ]
    },
    {
     "name": "stderr",
     "output_type": "stream",
     "text": [
      "2017-12-27 21:05:16,134 [ERROR] ezibpy: [#326] Unable connect as the client id is already in use. Retry with a unique client id.\n"
     ]
    }
   ],
   "source": [
    "import ezibpy\n",
    "import time\n",
    "clientId = 334\n",
    "port = 4001\n",
    "tickId =1002 #321\n",
    "    \n",
    "# Note: Option quotes will give an error if they aren't shown in TWS\n",
    "sec = \"AAPL\"\n",
    "contractTuple = (sec, 'STK', 'ISLAND', 'USD', sec, 0.0, 'False')\n",
    "\n",
    "\n",
    "# initialize ezIBpy\n",
    "ibConn = ezibpy.ezIBpy()\n",
    "\n",
    "ibConn.connect(clientId=clientId, host=\"localhost\", port=port)\n",
    "contract = ibConn.createStockContract(\"AAPL\")\n",
    "# create a contract & request market depth\n",
    "\n",
    "ibConn.requestMarketDepth()\n",
    "\n",
    "# wait 30 seconds\n",
    "time.sleep(1)\n",
    "\n",
    "# cancel market data request & disconnect\n",
    "ibConn.cancelMarketData()\n",
    "ibConn.disconnect"
   ]
  },
  {
   "cell_type": "code",
   "execution_count": null,
   "metadata": {
    "collapsed": true
   },
   "outputs": [],
   "source": []
  }
 ],
 "metadata": {
  "kernelspec": {
   "display_name": "Python 3",
   "language": "python",
   "name": "python3"
  },
  "language_info": {
   "codemirror_mode": {
    "name": "ipython",
    "version": 3
   },
   "file_extension": ".py",
   "mimetype": "text/x-python",
   "name": "python",
   "nbconvert_exporter": "python",
   "pygments_lexer": "ipython3",
   "version": "3.4.4"
  }
 },
 "nbformat": 4,
 "nbformat_minor": 0
}
