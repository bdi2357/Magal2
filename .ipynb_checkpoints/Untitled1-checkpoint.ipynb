{
 "cells": [
  {
   "cell_type": "code",
   "execution_count": 2,
   "metadata": {
    "collapsed": false
   },
   "outputs": [
    {
     "name": "stdout",
     "output_type": "stream",
     "text": [
      "Server Version: 76\n",
      "TWS Time at connection:20171227 20:46:29 IST\n"
     ]
    },
    {
     "name": "stderr",
     "output_type": "stream",
     "text": [
      "2017-12-27 20:46:45,270 [ERROR] ezibpy: [#10092] Deep market data is not supported for this combination of security type/exchange\n",
      "2017-12-27 20:46:45,272 [ERROR] ezibpy: [#354] Requested market data is not subscribed.XLB ARCA/DEEP\n"
     ]
    },
    {
     "data": {
      "text/plain": [
       "<bound method ezIBpy.disconnect of <ezibpy.ezibpy.ezIBpy object at 0x1079e3a58>>"
      ]
     },
     "execution_count": 2,
     "metadata": {},
     "output_type": "execute_result"
    }
   ],
   "source": [
    "import ezibpy\n",
    "import time\n",
    "clientId = 334\n",
    "port = 4001\n",
    "tickId =1002 #321\n",
    "    \n",
    "# Note: Option quotes will give an error if they aren't shown in TWS\n",
    "sec = \"AAPL\"\n",
    "contractTuple = (sec, 'STK', 'ISLAND', 'USD', sec, 0.0, 'False')\n",
    "\n",
    "\n",
    "# initialize ezIBpy\n",
    "ibConn = ezibpy.ezIBpy()\n",
    "contract = ibConn.createStockContract(\"AAPL\")\n",
    "ibConn.connect(clientId=clientId, host=\"localhost\", port=port)\n",
    "\n",
    "# create a contract & request market depth\n",
    "\n",
    "ibConn.requestMarketDepth()\n",
    "\n",
    "# wait 30 seconds\n",
    "time.sleep(30)\n",
    "\n",
    "# cancel market data request & disconnect\n",
    "ibConn.cancelMarketData()\n",
    "ibConn.disconnect"
   ]
  },
  {
   "cell_type": "code",
   "execution_count": null,
   "metadata": {
    "collapsed": true
   },
   "outputs": [],
   "source": []
  }
 ],
 "metadata": {
  "kernelspec": {
   "display_name": "Python 3",
   "language": "python",
   "name": "python3"
  },
  "language_info": {
   "codemirror_mode": {
    "name": "ipython",
    "version": 3
   },
   "file_extension": ".py",
   "mimetype": "text/x-python",
   "name": "python",
   "nbconvert_exporter": "python",
   "pygments_lexer": "ipython3",
   "version": "3.4.4"
  }
 },
 "nbformat": 4,
 "nbformat_minor": 0
}
